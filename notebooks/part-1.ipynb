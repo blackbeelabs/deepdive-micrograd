{
 "cells": [
  {
   "cell_type": "code",
   "execution_count": 1,
   "id": "ee2174c4",
   "metadata": {},
   "outputs": [
    {
     "name": "stdout",
     "output_type": "stream",
     "text": [
      "4\n"
     ]
    }
   ],
   "source": [
    "# A rudimentary implementation\n",
    "a = 2\n",
    "b = -3\n",
    "c = 10\n",
    "d = a*b+c\n",
    "print(d)"
   ]
  },
  {
   "cell_type": "code",
   "execution_count": 2,
   "id": "6ee0e6ac",
   "metadata": {},
   "outputs": [],
   "source": [
    "class Value:\n",
    "    def __init__(self, data, children=(), label=\"\", op=\"\"):\n",
    "        self.data = data\n",
    "        self.label = label\n",
    "        self._prev = set(children)\n",
    "        self._op = op\n",
    "        \n",
    "    def __repr__(self):\n",
    "        return f\"Value(data={self.data})\"\n",
    "    \n",
    "    def __add__(self, other):\n",
    "        out = Value(\n",
    "            self.data + other.data, \n",
    "            children = (self, other), \n",
    "            op=\"+\"\n",
    "        )\n",
    "        return out\n",
    "    \n",
    "    def __mul__(self, other):\n",
    "        out = Value(\n",
    "            self.data * other.data, \n",
    "            children = (self, other), \n",
    "            op=\"*\"\n",
    "        )\n",
    "        return out   "
   ]
  },
  {
   "cell_type": "code",
   "execution_count": 3,
   "id": "7aed6cd8",
   "metadata": {},
   "outputs": [
    {
     "data": {
      "text/plain": [
       "Value(data=4)"
      ]
     },
     "execution_count": 3,
     "metadata": {},
     "output_type": "execute_result"
    }
   ],
   "source": [
    "# An implementation with Value\n",
    "a = Value(2)\n",
    "b = Value(-3)\n",
    "c = Value(10)\n",
    "# To maintain purity, only have 1 function per line\n",
    "e = a*b\n",
    "d = e+c\n",
    "d"
   ]
  },
  {
   "cell_type": "code",
   "execution_count": 4,
   "id": "ae22097d",
   "metadata": {},
   "outputs": [
    {
     "name": "stdout",
     "output_type": "stream",
     "text": [
      "Value(data=4)\n",
      "{Value(data=10), Value(data=-6)}\n",
      "+\n"
     ]
    }
   ],
   "source": [
    "print(d)\n",
    "print(d._prev)\n",
    "print(d._op)"
   ]
  },
  {
   "cell_type": "code",
   "execution_count": 5,
   "id": "ed0e0369",
   "metadata": {},
   "outputs": [
    {
     "name": "stdout",
     "output_type": "stream",
     "text": [
      "Value(data=-6)\n",
      "{Value(data=2), Value(data=-3)}\n",
      "*\n"
     ]
    }
   ],
   "source": [
    "print(e)\n",
    "print(e._prev)\n",
    "print(e._op)"
   ]
  }
 ],
 "metadata": {
  "kernelspec": {
   "display_name": "Python 3 (ipykernel)",
   "language": "python",
   "name": "python3"
  },
  "language_info": {
   "codemirror_mode": {
    "name": "ipython",
    "version": 3
   },
   "file_extension": ".py",
   "mimetype": "text/x-python",
   "name": "python",
   "nbconvert_exporter": "python",
   "pygments_lexer": "ipython3",
   "version": "3.10.13"
  }
 },
 "nbformat": 4,
 "nbformat_minor": 5
}
