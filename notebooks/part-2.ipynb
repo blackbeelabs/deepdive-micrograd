{
 "cells": [
  {
   "cell_type": "code",
   "execution_count": null,
   "id": "686b2f24",
   "metadata": {},
   "outputs": [],
   "source": [
    "class Value:\n",
    "    def __init__(self, data, children=(), label=\"\", op=\"\"):\n",
    "        self.data = data\n",
    "        self.label = label\n",
    "        self._prev = set(children)\n",
    "        self._op = op\n",
    "        self._grad = 0.0\n",
    "\n",
    "    def __repr__(self):\n",
    "        return f\"Value(data={self.data})\"\n",
    "\n",
    "    def __add__(self, other):\n",
    "        out = Value(self.data + other.data, children=(self, other), op=\"+\")\n",
    "        return out\n",
    "\n",
    "    def __mul__(self, other):\n",
    "        out = Value(self.data * other.data, children=(self, other), op=\"*\")\n",
    "        return out\n"
   ]
  }
 ],
 "metadata": {
  "kernelspec": {
   "display_name": "Python 3 (ipykernel)",
   "language": "python",
   "name": "python3"
  },
  "language_info": {
   "codemirror_mode": {
    "name": "ipython",
    "version": 3
   },
   "file_extension": ".py",
   "mimetype": "text/x-python",
   "name": "python",
   "nbconvert_exporter": "python",
   "pygments_lexer": "ipython3",
   "version": "3.10.13"
  }
 },
 "nbformat": 4,
 "nbformat_minor": 5
}
